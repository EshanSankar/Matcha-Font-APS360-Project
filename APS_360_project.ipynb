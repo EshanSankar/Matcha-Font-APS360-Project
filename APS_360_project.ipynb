{
  "cells": [
    {
      "cell_type": "markdown",
      "metadata": {
        "id": "gCxD3KrOQOeU"
      },
      "source": [
        "# APS360 Group Project"
      ]
    },
    {
      "cell_type": "code",
      "execution_count": null,
      "metadata": {
        "id": "2TNmulY7lunm"
      },
      "outputs": [],
      "source": [
        "import torch\n",
        "import torch.nn as nn\n",
        "import torch.nn.functional as F\n",
        "from train import train_net, train_auto_encoder, init_device, test_net\n",
        "from graph import plot_training_curve, generate_confusion_matrix, visualize_output, visualize_autoencoder_output"
      ]
    },
    {
      "cell_type": "code",
      "execution_count": null,
      "metadata": {},
      "outputs": [],
      "source": [
        "init_device()"
      ]
    },
    {
      "cell_type": "markdown",
      "metadata": {
        "id": "8Iojl5j1j85J"
      },
      "source": [
        "## Baseline Model"
      ]
    },
    {
      "cell_type": "code",
      "execution_count": null,
      "metadata": {
        "id": "tY_SOfBvQFya"
      },
      "outputs": [],
      "source": [
        "class BaselineModel(nn.Module):\n",
        "    def __init__(self):\n",
        "        super(BaselineModel, self).__init__() \n",
        "        self.conv1 = nn.Conv2d(1, 5, 3) \n",
        "        self.pool = nn.MaxPool2d(2, 2)\n",
        "        self.conv2 = nn.Conv2d(5, 10, 3)\n",
        "        self.conv3 = nn.Conv2d(10, 20, 3)\n",
        "        self.fc = nn.Linear(26*26*20, 10)\n",
        "\n",
        "    def forward(self, x):\n",
        "        x = self.pool(F.relu(self.conv1(x)))\n",
        "        x = self.pool(F.relu(self.conv2(x)))\n",
        "        x = self.pool(F.relu(self.conv3(x)))\n",
        "        x = x.view(-1, 26*26*20)\n",
        "\n",
        "        x = self.fc(x)\n",
        "\n",
        "        return x\n"
      ]
    },
    {
      "cell_type": "code",
      "execution_count": null,
      "metadata": {
        "id": "dX2REwQIyX_R"
      },
      "outputs": [],
      "source": [
        "train_net(BaselineModel, \"baseline_model\", learning_rate=0.01, patience=3)"
      ]
    },
    {
      "cell_type": "markdown",
      "metadata": {},
      "source": [
        "## Primary Model"
      ]
    },
    {
      "cell_type": "code",
      "execution_count": null,
      "metadata": {},
      "outputs": [],
      "source": [
        "class Encoder(nn.Module):\n",
        "    def __init__(self):\n",
        "        super(Encoder, self).__init__()\n",
        "        self.conv1 = nn.Conv2d(1, 32, 3, 2, 1)\n",
        "        self.bn1 = nn.BatchNorm2d(32)\n",
        "        self.conv2 = nn.Conv2d(32, 64, 3, 2, 1)\n",
        "        self.bn2 = nn.BatchNorm2d(64)\n",
        "        self.conv3 = nn.Conv2d(64, 128, 3, 2, 1)\n",
        "        self.bn3 = nn.BatchNorm2d(128)\n",
        "\n",
        "    def forward(self, x):\n",
        "        x = self.bn1(F.relu(self.conv1(x)))    # 32 x 112 x 112\n",
        "        x = self.bn2(F.relu(self.conv2(x)))    # 64 x 56 x 56\n",
        "        x = self.bn3(F.relu(self.conv3(x)))    # 128 x 28 x 28\n",
        "\n",
        "        return x\n",
        "\n",
        "class Decoder(nn.Module):\n",
        "    def __init__(self):\n",
        "        super(Decoder, self).__init__()\n",
        "\n",
        "        self.conv4 = nn.ConvTranspose2d(128, 64, 3, 2, 1, 1)\n",
        "        self.bn4 = nn.BatchNorm2d(64)\n",
        "        self.conv5 = nn.ConvTranspose2d(64, 32, 3, 2, 1, 1)\n",
        "        self.bn5 = nn.BatchNorm2d(32)\n",
        "        self.conv6 = nn.ConvTranspose2d(32, 1, 3, 2, 1, 1)\n",
        "\n",
        "    def forward(self, x):\n",
        "\n",
        "        x = self.bn4(F.relu(self.conv4(x)))\n",
        "        x = self.bn5(F.relu(self.conv5(x)) )\n",
        "        x = self.conv6(x)\n",
        "        \n",
        "        return x\n",
        "\n",
        "class AutoEncoder(nn.Module):\n",
        "    def __init__(self):\n",
        "        super(AutoEncoder, self).__init__()\n",
        "        self.encoder = Encoder()\n",
        "        self.decoder = Decoder()\n",
        "\n",
        "    def forward(self, x):\n",
        "        x = self.encoder(x)\n",
        "        x = self.decoder(x)\n",
        "\n",
        "        return x\n",
        "\n",
        "class PrimaryModel(nn.Module):\n",
        "    def __init__(self, encoder, layer_size):\n",
        "        super(PrimaryModel, self).__init__()\n",
        "        self.encoder = encoder\n",
        "        self.encoder.requires_grad_(False)\n",
        "        self.layer_size = layer_size\n",
        "        \n",
        "        self.conv1 = nn.Conv2d(1, layer_size, 3, 2, 1) \n",
        "        self.bn1 = nn.BatchNorm2d(layer_size)\n",
        "        self.conv2 = nn.Conv2d(layer_size, layer_size*2, 3, 2, 1)\n",
        "        self.bn2 = nn.BatchNorm2d(layer_size*2)\n",
        "        self.conv3 = nn.Conv2d(layer_size*2, layer_size*4, 3, 2, 1)\n",
        "        self.bn3 = nn.BatchNorm2d(layer_size*4)\n",
        "\n",
        "        self.conv4 = nn.Conv2d(128, layer_size*4, 1)\n",
        "        self.bn4 = nn.BatchNorm2d(layer_size*4)\n",
        "        \n",
        "        self.conv5 = nn.Conv2d(layer_size*8,layer_size*2,1)\n",
        "        self.bn5 = nn.BatchNorm2d(layer_size*2)\n",
        "        \n",
        "        self.fc1 = nn.Linear(layer_size*2*28*28, 128)\n",
        "        self.bn6 = nn.BatchNorm1d(128)\n",
        "        self.fc2 = nn.Linear(128, 10)\n",
        "\n",
        "    def forward(self, x):\n",
        "        \n",
        "        x1 = self.bn1(F.relu(self.conv1(x)))\n",
        "        x1 = self.bn2(F.relu(self.conv2(x1)))\n",
        "        x1 = self.bn3(F.relu(self.conv3(x1)))\n",
        "        \n",
        "        x2 = self.encoder(x)\n",
        "        x2 = self.bn4(F.relu(self.conv4(x2)))\n",
        "        \n",
        "        x = torch.cat((x1,x2), dim=1)\n",
        "        x = self.bn5(F.relu(self.conv5(x)))\n",
        "                \n",
        "        x = x.view(-1, self.layer_size*2*28*28)\n",
        "        x = self.bn6(F.relu(self.fc1(x)))\n",
        "        x = F.softmax(self.fc2(x), dim=1)\n",
        "\n",
        "        return x"
      ]
    },
    {
      "cell_type": "code",
      "execution_count": null,
      "metadata": {},
      "outputs": [],
      "source": [
        "train_auto_encoder(AutoEncoder, \"autoencoder\", learning_rate=0.002, batch_size=16, patience=10)"
      ]
    },
    {
      "cell_type": "code",
      "execution_count": null,
      "metadata": {},
      "outputs": [],
      "source": [
        "for num_layers in range(1, 9):\n",
        "    auto_encoder = AutoEncoder()\n",
        "    auto_encoder.load_state_dict(torch.load(\"autoencoder\\\\best_model\"))\n",
        "    train_net(PrimaryModel, \"primary_model\" + str(num_layers), model_params=[auto_encoder.encoder, num_layers], learning_rate=0.0001, batch_size=32, patience=5)"
      ]
    },
    {
      "cell_type": "markdown",
      "metadata": {},
      "source": [
        "# Visualization"
      ]
    },
    {
      "cell_type": "code",
      "execution_count": null,
      "metadata": {},
      "outputs": [],
      "source": [
        "# Testing\n",
        "print(\"Baseline Model: \", end=\"\")\n",
        "test_net(BaselineModel, \"baseline_model\\\\best_model\")\n",
        "print(\"Primary Model: \", end=\"\")\n",
        "test_net(PrimaryModel, \"primary_model\\\\best_model\", model_params=[Encoder()])"
      ]
    },
    {
      "cell_type": "code",
      "execution_count": null,
      "metadata": {},
      "outputs": [],
      "source": [
        "# Graphing\n",
        "plot_training_curve(\"baseline_model\")\n",
        "plot_training_curve(\"primary_model\")"
      ]
    },
    {
      "cell_type": "code",
      "execution_count": null,
      "metadata": {},
      "outputs": [],
      "source": [
        "# Visualizing\n",
        "visualize_output(5 ,\"baseline_model\\\\best_model\", BaselineModel)\n",
        "visualize_output(5, \"primary_model\\\\best_model\", PrimaryModel, model_params=[Encoder()])"
      ]
    },
    {
      "cell_type": "code",
      "execution_count": null,
      "metadata": {},
      "outputs": [],
      "source": [
        "visualize_autoencoder_output(5, \"autoencoder\\\\best_model\", AutoEncoder)\n"
      ]
    },
    {
      "cell_type": "code",
      "execution_count": null,
      "metadata": {},
      "outputs": [],
      "source": [
        "# Confusion Matrix\n",
        "generate_confusion_matrix(BaselineModel, \"baseline_model\\\\best_model\")\n",
        "generate_confusion_matrix(PrimaryModel, \"primary_model\\\\best_model\")"
      ]
    }
  ],
  "metadata": {
    "colab": {
      "provenance": []
    },
    "kernelspec": {
      "display_name": "Python 3",
      "name": "python3"
    },
    "language_info": {
      "codemirror_mode": {
        "name": "ipython",
        "version": 3
      },
      "file_extension": ".py",
      "mimetype": "text/x-python",
      "name": "python",
      "nbconvert_exporter": "python",
      "pygments_lexer": "ipython3",
      "version": "3.10.6"
    }
  },
  "nbformat": 4,
  "nbformat_minor": 0
}
